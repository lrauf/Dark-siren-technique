{
 "cells": [
  {
   "cell_type": "code",
   "execution_count": 1,
   "id": "8a8b4683-cd2a-441c-a6c0-abdf9113645e",
   "metadata": {},
   "outputs": [],
   "source": [
    "from gal4H0 import *\n",
    "from scipy.stats import gaussian_kde\n",
    "np.random.seed(1) # Random seed\n",
    "true_cosmology = FlatLambdaCDM(H0=70.,Om0=0.25) # True cosmology"
   ]
  },
  {
   "cell_type": "code",
   "execution_count": 2,
   "id": "7d80cede-34a2-45b4-904d-001bccf9fdfb",
   "metadata": {},
   "outputs": [
    {
     "name": "stdout",
     "output_type": "stream",
     "text": [
      "0.1\n",
      "You detected 200 binaries out of 100000 simulated\n"
     ]
    },
    {
     "name": "stderr",
     "output_type": "stream",
     "text": [
      "running on H0: 4000it [01:49, 36.55it/s]\n"
     ]
    },
    {
     "name": "stdout",
     "output_type": "stream",
     "text": [
      "0.2\n",
      "You detected 200 binaries out of 100000 simulated\n"
     ]
    },
    {
     "name": "stderr",
     "output_type": "stream",
     "text": [
      "running on H0: 4000it [01:48, 36.98it/s]\n"
     ]
    },
    {
     "name": "stdout",
     "output_type": "stream",
     "text": [
      "0.3\n",
      "You detected 200 binaries out of 100000 simulated\n"
     ]
    },
    {
     "name": "stderr",
     "output_type": "stream",
     "text": [
      "running on H0: 4000it [01:50, 36.22it/s]\n"
     ]
    },
    {
     "name": "stdout",
     "output_type": "stream",
     "text": [
      "0.1\n",
      "You detected 200 binaries out of 100000 simulated\n"
     ]
    },
    {
     "name": "stderr",
     "output_type": "stream",
     "text": [
      "running on H0: 4000it [3:32:19,  3.18s/it]  \n"
     ]
    },
    {
     "name": "stdout",
     "output_type": "stream",
     "text": [
      "0.2\n",
      "You detected 200 binaries out of 100000 simulated\n"
     ]
    },
    {
     "name": "stderr",
     "output_type": "stream",
     "text": [
      "running on H0: 4000it [44:26,  1.50it/s]\n"
     ]
    },
    {
     "name": "stdout",
     "output_type": "stream",
     "text": [
      "0.3\n",
      "You detected 200 binaries out of 100000 simulated\n"
     ]
    },
    {
     "name": "stderr",
     "output_type": "stream",
     "text": [
      "running on H0: 4000it [38:13,  1.74it/s]\n"
     ]
    },
    {
     "name": "stdout",
     "output_type": "stream",
     "text": [
      "0.1\n",
      "You detected 200 binaries out of 100000 simulated\n"
     ]
    },
    {
     "name": "stderr",
     "output_type": "stream",
     "text": [
      "running on H0: 4000it [00:59, 66.97it/s]\n"
     ]
    },
    {
     "name": "stdout",
     "output_type": "stream",
     "text": [
      "0.2\n",
      "You detected 200 binaries out of 100000 simulated\n"
     ]
    },
    {
     "name": "stderr",
     "output_type": "stream",
     "text": [
      "running on H0: 4000it [01:03, 63.14it/s]\n"
     ]
    },
    {
     "name": "stdout",
     "output_type": "stream",
     "text": [
      "0.3\n",
      "You detected 200 binaries out of 100000 simulated\n"
     ]
    },
    {
     "name": "stderr",
     "output_type": "stream",
     "text": [
      "running on H0: 4000it [01:05, 60.84it/s]\n"
     ]
    },
    {
     "name": "stdout",
     "output_type": "stream",
     "text": [
      "0.1\n",
      "You detected 200 binaries out of 100000 simulated\n"
     ]
    },
    {
     "name": "stderr",
     "output_type": "stream",
     "text": [
      "running on H0: 4000it [19:21,  3.44it/s]\n"
     ]
    },
    {
     "name": "stdout",
     "output_type": "stream",
     "text": [
      "0.2\n",
      "You detected 200 binaries out of 100000 simulated\n"
     ]
    },
    {
     "name": "stderr",
     "output_type": "stream",
     "text": [
      "running on H0: 4000it [25:44,  2.59it/s] \n"
     ]
    },
    {
     "name": "stdout",
     "output_type": "stream",
     "text": [
      "0.3\n",
      "You detected 200 binaries out of 100000 simulated\n"
     ]
    },
    {
     "name": "stderr",
     "output_type": "stream",
     "text": [
      "running on H0: 4000it [15:17,  4.36it/s]\n"
     ]
    }
   ],
   "source": [
    "# We generate multiple H0 posterior for 200 events, different LOS and dl errors\n",
    "\n",
    "LOSf=['MICECAT_LOS/micecat_451.csv','MICECAT_LOS/micecat_455.csv',\n",
    "     'MICECAT_LOS/micecat_901.csv','MICECAT_LOS/micecat_905.csv']\n",
    "\n",
    "sigmas=[0.1,0.2,0.3]\n",
    "Ngw=200\n",
    "zcut_rate=1.4\n",
    "dl_thr=1550\n",
    "H0_array=np.linspace(40,120,4000)\n",
    "\n",
    "posteriors={'H0_grid':H0_array}\n",
    "\n",
    "for ilos in LOSf:\n",
    "    galaxies_list = np.genfromtxt(ilos,skip_header=1)\n",
    "    for sigma in sigmas:\n",
    "        print(sigma)\n",
    "        sigma_dl=sigma\n",
    "        gw_obs_dl,_,_,std_dl=draw_gw_events(Ngw,sigma_dl,dl_thr,galaxies_list,true_cosmology,zcut_rate)\n",
    "        posterior_matrix,combined=galaxy_catalog_analysis_accurate_redshift(H0_array,galaxies_list,zcut_rate,gw_obs_dl,sigma_dl,dl_thr)\n",
    "\n",
    "        posteriors[ilos+'_'+str(sigma)+'_'+'signle']=posterior_matrix\n",
    "        posteriors[ilos+'_'+str(sigma)+'_'+'combined']=combined"
   ]
  },
  {
   "cell_type": "code",
   "execution_count": 3,
   "id": "c9ff2e83-db2c-4392-9213-f1a1322c3d50",
   "metadata": {},
   "outputs": [
    {
     "data": {
      "image/png": "[encoded data removed]",
      "text/plain": [
       "<Figure size 252x324 with 3 Axes>"
      ]
     },
     "metadata": {
      "needs_background": "light"
     },
     "output_type": "display_data"
    }
   ],
   "source": [
    "fig, ax= plt.subplots(3,1,figsize=(3.5,4.5),sharex=True)\n",
    "colors=[pal[0],pal[1],pal[2],pal[3]]\n",
    "lines=['solid','--',':']\n",
    "\n",
    "labels_1=[r'$D_{11}$',\n",
    "        r'$D_{15}$',\n",
    "        r'$D_{21}$',\n",
    "        r'$D_{25}$']\n",
    "\n",
    "labels_2=[r'$\\sigma_{d_L}/d_L=10\\%$',\n",
    "         r'$\\sigma_{d_L}/d_L=20\\%$',\n",
    "         r'$\\sigma_{d_L}/d_L=30\\%$']\n",
    "\n",
    "\n",
    "for i in range(len(colors)):\n",
    "    for j in range(len(lines)):\n",
    "        ilos=LOSf[i]\n",
    "        sigma=sigmas[j]\n",
    "        ax[j].plot(H0_array,posteriors[ilos+'_'+str(sigma)+'_'+'combined'],ls='solid',color=colors[i],label=labels_1[i])\n",
    "\n",
    "for j in range(3):\n",
    "    ax[j].axvline(70.,ls='--',color='k',label='Truth')\n",
    "    ax[j].set_xlim([40,120])    \n",
    "    ax[j].yaxis.set_ticklabels([])\n",
    "    ax[j].set_ylabel(r'Posterior ${\\rm[km^{-1} \\,s \\,Mpc]}$'+'\\n'+'('+labels_2[j]+')',fontsize=6)\n",
    "\n",
    "ax[0].legend(frameon=False,ncol=2)\n",
    "\n",
    "ax[2].set_xlabel(r'$H_0 {\\rm[km \\,s^{-1} \\,Mpc^{-1}]}$')\n",
    "#plt.tight_layout()\n",
    "plt.savefig('figures_paper/big_fig_acc_redshift.pdf')\n",
    "\n"
   ]
  }
 ],
 "metadata": {
  "kernelspec": {
   "display_name": "Python 3 (ipykernel)",
   "language": "python",
   "name": "python3"
  },
  "language_info": {
   "codemirror_mode": {
    "name": "ipython",
    "version": 3
   },
   "file_extension": ".py",
   "mimetype": "text/x-python",
   "name": "python",
   "nbconvert_exporter": "python",
   "pygments_lexer": "ipython3",
   "version": "3.9.5"
  }
 },
 "nbformat": 4,
 "nbformat_minor": 5
}
